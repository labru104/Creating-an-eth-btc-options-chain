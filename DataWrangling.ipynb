{
 "cells": [
  {
   "cell_type": "code",
   "execution_count": 430,
   "id": "52d31866",
   "metadata": {},
   "outputs": [],
   "source": [
    "#Make a dataframe with all options prices based on black scholes\n",
    "#Data pulled from the fed, etherscan and t3 ethvol index\n",
    "#Can add things such as better strikes, vol smile, etc"
   ]
  },
  {
   "cell_type": "code",
   "execution_count": 431,
   "id": "3b659ad0",
   "metadata": {},
   "outputs": [],
   "source": [
    "import numpy as np\n",
    "import pandas as pd\n",
    "import scipy\n",
    "from scipy.stats import norm\n",
    "import datetime"
   ]
  },
  {
   "cell_type": "code",
   "execution_count": 432,
   "id": "28757dff",
   "metadata": {},
   "outputs": [],
   "source": [
    "eth = \"/Users/nick/Downloads/ethvolatility.csv\"\n",
    "ethvix = pd.read_csv(eth)\n",
    "tre = \"/Users/nick/Downloads/DGS102.csv\"\n",
    "treas = pd.read_csv(tre)\n",
    "ethp = \"/Users/nick/Downloads/EtPrice.csv\"\n",
    "ethprice = pd.read_csv(ethp)\n"
   ]
  },
  {
   "cell_type": "code",
   "execution_count": 433,
   "id": "b36d8202",
   "metadata": {},
   "outputs": [],
   "source": [
    "#cutting both frames to the first day which ETH-VIX data is available\n",
    "treas['DATE'] = pd.to_datetime(treas['DATE'])\n",
    "treas.set_index('DATE', drop=True, inplace=True)\n",
    "treas = treas.loc['2020-4-15':]\n",
    "\n",
    "ethprice.drop(columns = ['UnixTimeStamp'], axis=1,inplace=True)\n",
    "ethprice.rename(columns={'Date(UTC)':'DATE'},inplace =True)\n",
    "ethprice['DATE'] = pd.to_datetime(ethprice['DATE'])\n",
    "ethprice.set_index('DATE', drop=True, inplace=True)\n",
    "ethprice = ethprice.loc['2020-4-15':]\n"
   ]
  },
  {
   "cell_type": "code",
   "execution_count": 434,
   "id": "b97dad85",
   "metadata": {},
   "outputs": [],
   "source": [
    "treas['DGS10'] = treas['DGS10'].replace('^.$',np.nan,regex=True) #replace a problematic row\n",
    "treas['DGS10'] = pd.to_numeric(treas['DGS10']) #converting to float"
   ]
  },
  {
   "cell_type": "code",
   "execution_count": 435,
   "id": "afe5856e",
   "metadata": {},
   "outputs": [
    {
     "data": {
      "text/html": [
       "<div>\n",
       "<style scoped>\n",
       "    .dataframe tbody tr th:only-of-type {\n",
       "        vertical-align: middle;\n",
       "    }\n",
       "\n",
       "    .dataframe tbody tr th {\n",
       "        vertical-align: top;\n",
       "    }\n",
       "\n",
       "    .dataframe thead th {\n",
       "        text-align: right;\n",
       "    }\n",
       "</style>\n",
       "<table border=\"1\" class=\"dataframe\">\n",
       "  <thead>\n",
       "    <tr style=\"text-align: right;\">\n",
       "      <th></th>\n",
       "      <th>Date;\"Ethereum Volatility Index\"</th>\n",
       "    </tr>\n",
       "  </thead>\n",
       "  <tbody>\n",
       "    <tr>\n",
       "      <th>0</th>\n",
       "      <td>2020-04-15 00:00:00;105.48</td>\n",
       "    </tr>\n",
       "    <tr>\n",
       "      <th>1</th>\n",
       "      <td>2020-04-16 00:00:00;103.27</td>\n",
       "    </tr>\n",
       "    <tr>\n",
       "      <th>2</th>\n",
       "      <td>2020-04-17 00:00:00;102.55</td>\n",
       "    </tr>\n",
       "    <tr>\n",
       "      <th>3</th>\n",
       "      <td>2020-04-18 00:00:00;99.87</td>\n",
       "    </tr>\n",
       "    <tr>\n",
       "      <th>4</th>\n",
       "      <td>2020-04-19 00:00:00;101.69</td>\n",
       "    </tr>\n",
       "    <tr>\n",
       "      <th>...</th>\n",
       "      <td>...</td>\n",
       "    </tr>\n",
       "    <tr>\n",
       "      <th>808</th>\n",
       "      <td>2022-07-13 00:00:00;100.52</td>\n",
       "    </tr>\n",
       "    <tr>\n",
       "      <th>809</th>\n",
       "      <td>2022-07-14 00:00:00;98.92</td>\n",
       "    </tr>\n",
       "    <tr>\n",
       "      <th>810</th>\n",
       "      <td>2022-07-15 00:00:00;96.56</td>\n",
       "    </tr>\n",
       "    <tr>\n",
       "      <th>811</th>\n",
       "      <td>2022-07-16 00:00:00;102.58</td>\n",
       "    </tr>\n",
       "    <tr>\n",
       "      <th>812</th>\n",
       "      <td>2022-07-17 00:00:00;107.8</td>\n",
       "    </tr>\n",
       "  </tbody>\n",
       "</table>\n",
       "<p>813 rows × 1 columns</p>\n",
       "</div>"
      ],
      "text/plain": [
       "    Date;\"Ethereum Volatility Index\"\n",
       "0         2020-04-15 00:00:00;105.48\n",
       "1         2020-04-16 00:00:00;103.27\n",
       "2         2020-04-17 00:00:00;102.55\n",
       "3          2020-04-18 00:00:00;99.87\n",
       "4         2020-04-19 00:00:00;101.69\n",
       "..                               ...\n",
       "808       2022-07-13 00:00:00;100.52\n",
       "809        2022-07-14 00:00:00;98.92\n",
       "810        2022-07-15 00:00:00;96.56\n",
       "811       2022-07-16 00:00:00;102.58\n",
       "812        2022-07-17 00:00:00;107.8\n",
       "\n",
       "[813 rows x 1 columns]"
      ]
     },
     "execution_count": 435,
     "metadata": {},
     "output_type": "execute_result"
    }
   ],
   "source": [
    "ethvix"
   ]
  },
  {
   "cell_type": "code",
   "execution_count": 436,
   "id": "db03d6b7",
   "metadata": {},
   "outputs": [],
   "source": [
    "#yuck!"
   ]
  },
  {
   "cell_type": "code",
   "execution_count": 437,
   "id": "439a1d26",
   "metadata": {
    "scrolled": true
   },
   "outputs": [],
   "source": [
    "ethvix[['DATE','VIX']] = ethvix[ethvix.columns[0]].str.split(pat=';',expand=True)\n",
    "ethvix.drop(ethvix.columns[0],axis=1, inplace=True)\n",
    "ethvix['DATE'] = pd.to_datetime(ethvix['DATE'])\n",
    "ethvix.set_index('DATE', drop=True, inplace=True)\n",
    "ethvix['VIX'] = pd.to_numeric(ethvix['VIX']) #converting to float\n",
    "ethvix['VIX'] = ethvix['VIX']/100 #divide by 100 so we can put it into black-scholes\n"
   ]
  },
  {
   "cell_type": "code",
   "execution_count": 438,
   "id": "84e5958b",
   "metadata": {},
   "outputs": [],
   "source": [
    "#almost done cleaning, need to fill weekends for treasuries and other missing values\n",
    "\n",
    "idx = pd.date_range('04-15-2020', '07-16-2022')\n",
    "treas = treas.reindex(idx, fill_value=np.nan)\n",
    "ethvix = ethvix.reindex(idx, fill_value=np.nan)\n",
    "treas['DGS10'].ffill(inplace=True)\n",
    "ethvix['VIX'].ffill(inplace=True)"
   ]
  },
  {
   "cell_type": "code",
   "execution_count": 439,
   "id": "b2c0f2c7",
   "metadata": {},
   "outputs": [
    {
     "data": {
      "text/html": [
       "<div>\n",
       "<style scoped>\n",
       "    .dataframe tbody tr th:only-of-type {\n",
       "        vertical-align: middle;\n",
       "    }\n",
       "\n",
       "    .dataframe tbody tr th {\n",
       "        vertical-align: top;\n",
       "    }\n",
       "\n",
       "    .dataframe thead th {\n",
       "        text-align: right;\n",
       "    }\n",
       "</style>\n",
       "<table border=\"1\" class=\"dataframe\">\n",
       "  <thead>\n",
       "    <tr style=\"text-align: right;\">\n",
       "      <th></th>\n",
       "      <th>DGS10</th>\n",
       "      <th>VIX</th>\n",
       "      <th>Value</th>\n",
       "    </tr>\n",
       "  </thead>\n",
       "  <tbody>\n",
       "    <tr>\n",
       "      <th>2020-04-15</th>\n",
       "      <td>0.63</td>\n",
       "      <td>105.48</td>\n",
       "      <td>152.85</td>\n",
       "    </tr>\n",
       "    <tr>\n",
       "      <th>2020-04-16</th>\n",
       "      <td>0.61</td>\n",
       "      <td>103.27</td>\n",
       "      <td>172.58</td>\n",
       "    </tr>\n",
       "    <tr>\n",
       "      <th>2020-04-17</th>\n",
       "      <td>0.65</td>\n",
       "      <td>102.55</td>\n",
       "      <td>170.98</td>\n",
       "    </tr>\n",
       "    <tr>\n",
       "      <th>2020-04-18</th>\n",
       "      <td>0.65</td>\n",
       "      <td>99.87</td>\n",
       "      <td>187.81</td>\n",
       "    </tr>\n",
       "    <tr>\n",
       "      <th>2020-04-19</th>\n",
       "      <td>0.65</td>\n",
       "      <td>101.69</td>\n",
       "      <td>180.34</td>\n",
       "    </tr>\n",
       "    <tr>\n",
       "      <th>...</th>\n",
       "      <td>...</td>\n",
       "      <td>...</td>\n",
       "      <td>...</td>\n",
       "    </tr>\n",
       "    <tr>\n",
       "      <th>2022-07-12</th>\n",
       "      <td>2.96</td>\n",
       "      <td>103.14</td>\n",
       "      <td>1037.37</td>\n",
       "    </tr>\n",
       "    <tr>\n",
       "      <th>2022-07-13</th>\n",
       "      <td>2.91</td>\n",
       "      <td>100.52</td>\n",
       "      <td>1114.57</td>\n",
       "    </tr>\n",
       "    <tr>\n",
       "      <th>2022-07-14</th>\n",
       "      <td>2.96</td>\n",
       "      <td>98.92</td>\n",
       "      <td>1192.56</td>\n",
       "    </tr>\n",
       "    <tr>\n",
       "      <th>2022-07-15</th>\n",
       "      <td>2.96</td>\n",
       "      <td>96.56</td>\n",
       "      <td>1231.23</td>\n",
       "    </tr>\n",
       "    <tr>\n",
       "      <th>2022-07-16</th>\n",
       "      <td>2.96</td>\n",
       "      <td>102.58</td>\n",
       "      <td>1356.31</td>\n",
       "    </tr>\n",
       "  </tbody>\n",
       "</table>\n",
       "<p>823 rows × 3 columns</p>\n",
       "</div>"
      ],
      "text/plain": [
       "            DGS10     VIX    Value\n",
       "2020-04-15   0.63  105.48   152.85\n",
       "2020-04-16   0.61  103.27   172.58\n",
       "2020-04-17   0.65  102.55   170.98\n",
       "2020-04-18   0.65   99.87   187.81\n",
       "2020-04-19   0.65  101.69   180.34\n",
       "...           ...     ...      ...\n",
       "2022-07-12   2.96  103.14  1037.37\n",
       "2022-07-13   2.91  100.52  1114.57\n",
       "2022-07-14   2.96   98.92  1192.56\n",
       "2022-07-15   2.96   96.56  1231.23\n",
       "2022-07-16   2.96  102.58  1356.31\n",
       "\n",
       "[823 rows x 3 columns]"
      ]
     },
     "execution_count": 439,
     "metadata": {},
     "output_type": "execute_result"
    }
   ],
   "source": [
    "chaindata = treas.join(ethvix)\n",
    "chaindata = chaindata.join(ethprice)\n",
    "chaindata"
   ]
  }
 ],
 "metadata": {
  "kernelspec": {
   "display_name": "Python 3 (ipykernel)",
   "language": "python",
   "name": "python3"
  },
  "language_info": {
   "codemirror_mode": {
    "name": "ipython",
    "version": 3
   },
   "file_extension": ".py",
   "mimetype": "text/x-python",
   "name": "python",
   "nbconvert_exporter": "python",
   "pygments_lexer": "ipython3",
   "version": "3.9.12"
  }
 },
 "nbformat": 4,
 "nbformat_minor": 5
}
